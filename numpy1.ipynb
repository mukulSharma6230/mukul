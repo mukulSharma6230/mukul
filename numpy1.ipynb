{
  "nbformat": 4,
  "nbformat_minor": 0,
  "metadata": {
    "colab": {
      "provenance": [],
      "authorship_tag": "ABX9TyMeCBrBL3EM/PLNJiYknHor",
      "include_colab_link": true
    },
    "kernelspec": {
      "name": "python3",
      "display_name": "Python 3"
    },
    "language_info": {
      "name": "python"
    }
  },
  "cells": [
    {
      "cell_type": "markdown",
      "metadata": {
        "id": "view-in-github",
        "colab_type": "text"
      },
      "source": [
        "<a href=\"https://colab.research.google.com/github/mukulSharma6230/mukul/blob/main/numpy1.ipynb\" target=\"_parent\"><img src=\"https://colab.research.google.com/assets/colab-badge.svg\" alt=\"Open In Colab\"/></a>"
      ]
    },
    {
      "cell_type": "markdown",
      "source": [
        "here we start learning the numpy\n",
        "So it is the first one"
      ],
      "metadata": {
        "id": "Og9tgqbWGXJc"
      }
    },
    {
      "cell_type": "code",
      "execution_count": 1,
      "metadata": {
        "id": "-5QjO7QgGH2T"
      },
      "outputs": [],
      "source": [
        "import numpy as npm"
      ]
    },
    {
      "cell_type": "markdown",
      "source": [
        "now let us create a demo list so we want to create the array of numpy so we do\n",
        "it will show us that it is a numpy array"
      ],
      "metadata": {
        "id": "WrSnW9GBGdlI"
      }
    },
    {
      "cell_type": "code",
      "source": [
        "demo =[10,20,30]\n",
        "\n",
        "npm.array(demo)"
      ],
      "metadata": {
        "colab": {
          "base_uri": "https://localhost:8080/"
        },
        "id": "PYqqEoPLGorA",
        "outputId": "1feaa4aa-562f-4f5b-c917-0a491f5f1ea3"
      },
      "execution_count": 3,
      "outputs": [
        {
          "output_type": "execute_result",
          "data": {
            "text/plain": [
              "array([10, 20, 30])"
            ]
          },
          "metadata": {},
          "execution_count": 3
        }
      ]
    },
    {
      "cell_type": "markdown",
      "source": [
        "here we enter do thing it will make array of flot type \n",
        "If we want to gave us a int value we have to enter (5,int)\n",
        "Than we can run it"
      ],
      "metadata": {
        "id": "YbZ2DdEnIBOC"
      }
    },
    {
      "cell_type": "code",
      "source": [
        "npm.zeros(5)"
      ],
      "metadata": {
        "colab": {
          "base_uri": "https://localhost:8080/"
        },
        "id": "CGgn8qPOH9da",
        "outputId": "62e530bc-f7fa-47b8-8412-cf7b5e1e22ca"
      },
      "execution_count": 4,
      "outputs": [
        {
          "output_type": "execute_result",
          "data": {
            "text/plain": [
              "array([0., 0., 0., 0., 0.])"
            ]
          },
          "metadata": {},
          "execution_count": 4
        }
      ]
    },
    {
      "cell_type": "markdown",
      "source": [
        "here we see that on thing is  in array so it will change the data type into int and if  it found that that object are of alphabet than it will change the whole array into the string array"
      ],
      "metadata": {
        "id": "lMNhX7z3IhYp"
      }
    },
    {
      "cell_type": "code",
      "source": [
        "demo1 =[10,20,'30']\n",
        "npm.array(demo1)"
      ],
      "metadata": {
        "colab": {
          "base_uri": "https://localhost:8080/"
        },
        "id": "LIB4JT7jIW88",
        "outputId": "0f2a18ab-05b7-4f3f-d32c-6b87c02f9a7f"
      },
      "execution_count": 6,
      "outputs": [
        {
          "output_type": "execute_result",
          "data": {
            "text/plain": [
              "array(['10', '20', '30'], dtype='<U21')"
            ]
          },
          "metadata": {},
          "execution_count": 6
        }
      ]
    },
    {
      "cell_type": "code",
      "source": [
        "demo2= [10,20,'xyz']\n",
        "npm.array(demo2)"
      ],
      "metadata": {
        "colab": {
          "base_uri": "https://localhost:8080/"
        },
        "id": "YnfuTY5JJkqI",
        "outputId": "6d72c9f2-6550-4c25-c679-fb311bc52a8a"
      },
      "execution_count": 7,
      "outputs": [
        {
          "output_type": "execute_result",
          "data": {
            "text/plain": [
              "array(['10', '20', 'xyz'], dtype='<U21')"
            ]
          },
          "metadata": {},
          "execution_count": 7
        }
      ]
    },
    {
      "cell_type": "code",
      "source": [
        "demo1[2]='xyz'\n",
        "print(demo1)"
      ],
      "metadata": {
        "colab": {
          "base_uri": "https://localhost:8080/"
        },
        "id": "yAvW1c2FJ9mj",
        "outputId": "4efcad30-6367-4ca2-8b75-26911a43e3df"
      },
      "execution_count": 8,
      "outputs": [
        {
          "output_type": "stream",
          "name": "stdout",
          "text": [
            "[10, 20, 'xyz']\n"
          ]
        }
      ]
    },
    {
      "cell_type": "code",
      "source": [
        "x  =npm.ones(5,int)\n",
        "print(x)"
      ],
      "metadata": {
        "colab": {
          "base_uri": "https://localhost:8080/"
        },
        "id": "zZ5VQPoSKgVO",
        "outputId": "eb5634e0-f4d1-4c41-97b1-4e273c490926"
      },
      "execution_count": 9,
      "outputs": [
        {
          "output_type": "stream",
          "name": "stdout",
          "text": [
            "[1 1 1 1 1]\n"
          ]
        }
      ]
    },
    {
      "cell_type": "code",
      "source": [
        "x[2]= 5\n",
        "print(x)"
      ],
      "metadata": {
        "colab": {
          "base_uri": "https://localhost:8080/"
        },
        "id": "GJrHZmKUKx1k",
        "outputId": "8dc2d8fc-ac9e-40ae-caeb-34890fabbd34"
      },
      "execution_count": 11,
      "outputs": [
        {
          "output_type": "stream",
          "name": "stdout",
          "text": [
            "[1 1 5 1 1]\n"
          ]
        }
      ]
    },
    {
      "cell_type": "markdown",
      "source": [
        "to find which type of array we have\n"
      ],
      "metadata": {
        "id": "svBfpErXLqIP"
      }
    },
    {
      "cell_type": "code",
      "source": [
        "y= npm.ones(5)\n",
        "y.dtype"
      ],
      "metadata": {
        "colab": {
          "base_uri": "https://localhost:8080/"
        },
        "id": "XjQbgnhXLucj",
        "outputId": "7fdadd3f-39b6-4677-a506-99b89f50ac69"
      },
      "execution_count": 12,
      "outputs": [
        {
          "output_type": "execute_result",
          "data": {
            "text/plain": [
              "dtype('float64')"
            ]
          },
          "metadata": {},
          "execution_count": 12
        }
      ]
    }
  ]
}