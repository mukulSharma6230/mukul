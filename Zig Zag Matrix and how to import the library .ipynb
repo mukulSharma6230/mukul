{
  "nbformat": 4,
  "nbformat_minor": 0,
  "metadata": {
    "colab": {
      "provenance": [],
      "authorship_tag": "ABX9TyNg3i7IE3ffrn6vm60mWuqf",
      "include_colab_link": true
    },
    "kernelspec": {
      "name": "python3",
      "display_name": "Python 3"
    },
    "language_info": {
      "name": "python"
    }
  },
  "cells": [
    {
      "cell_type": "markdown",
      "metadata": {
        "id": "view-in-github",
        "colab_type": "text"
      },
      "source": [
        "<a href=\"https://colab.research.google.com/github/mukulSharma6230/mukul/blob/main/Zig%20Zag%20Matrix%20and%20how%20to%20import%20the%20library%20.ipynb\" target=\"_parent\"><img src=\"https://colab.research.google.com/assets/colab-badge.svg\" alt=\"Open In Colab\"/></a>"
      ]
    },
    {
      "cell_type": "code",
      "execution_count": 6,
      "metadata": {
        "colab": {
          "base_uri": "https://localhost:8080/"
        },
        "id": "wFKZmT1meXol",
        "outputId": "529831de-1eeb-4562-acdd-a14bed0e0b77"
      },
      "outputs": [
        {
          "output_type": "stream",
          "name": "stdout",
          "text": [
            "1\n",
            "4\n",
            "7\n",
            "10\n",
            "11\n",
            "8\n",
            "5\n",
            "2\n",
            "3\n",
            "6\n",
            "9\n",
            "12\n"
          ]
        }
      ],
      "source": [
        "list1 =[[1,2,3],[4,5,6],[7,8,9],[10,11,12]]\n",
        "#print(list1)\n",
        "\n",
        "row =len(list1)\n",
        "#print(row)\n",
        "columns = len(list1[0])\n",
        "#print(columns)\n",
        "\n",
        "for j in range(columns):\n",
        "  if j%2==0:\n",
        "    for i in range(row):\n",
        "      print(list1[i][j])\n",
        "  else:\n",
        "    i= row-1 \n",
        "    while(i>=0):\n",
        "      print(list1[i][j])\n",
        "      i=i-1   "
      ]
    },
    {
      "cell_type": "code",
      "source": [
        "import math\n",
        "x =math.gcd(120,45)\n",
        "print(x)"
      ],
      "metadata": {
        "colab": {
          "base_uri": "https://localhost:8080/"
        },
        "id": "ngIibrzjlBbo",
        "outputId": "81ece6f0-d317-4bd2-d113-4b87306b57fa"
      },
      "execution_count": 7,
      "outputs": [
        {
          "output_type": "stream",
          "name": "stdout",
          "text": [
            "15\n"
          ]
        }
      ]
    }
  ]
}