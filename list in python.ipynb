{
  "nbformat": 4,
  "nbformat_minor": 0,
  "metadata": {
    "colab": {
      "provenance": [],
      "toc_visible": true,
      "include_colab_link": true
    },
    "kernelspec": {
      "name": "python3",
      "display_name": "Python 3"
    }
  },
  "cells": [
    {
      "cell_type": "markdown",
      "metadata": {
        "id": "view-in-github",
        "colab_type": "text"
      },
      "source": [
        "<a href=\"https://colab.research.google.com/github/mukulSharma6230/mukul/blob/main/list%20in%20python.ipynb\" target=\"_parent\"><img src=\"https://colab.research.google.com/assets/colab-badge.svg\" alt=\"Open In Colab\"/></a>"
      ]
    },
    {
      "cell_type": "code",
      "source": [
        "list1= [1,2,3]\n",
        "print(list1)"
      ],
      "metadata": {
        "id": "A2jU5Btg9Z6e",
        "outputId": "c2149dc8-4d52-4c47-90d9-1dd2e0266dc7",
        "colab": {
          "base_uri": "https://localhost:8080/"
        }
      },
      "execution_count": 1,
      "outputs": [
        {
          "output_type": "stream",
          "name": "stdout",
          "text": [
            "[1, 2, 3]\n"
          ]
        }
      ]
    },
    {
      "cell_type": "code",
      "source": [
        "list1 =[ x for x in range(5)]\n",
        "print(list1)"
      ],
      "metadata": {
        "id": "EUnhp-IF9fwK",
        "outputId": "a60bb010-9680-4c04-8dc9-7f36728e749b",
        "colab": {
          "base_uri": "https://localhost:8080/"
        }
      },
      "execution_count": 3,
      "outputs": [
        {
          "output_type": "stream",
          "name": "stdout",
          "text": [
            "[0, 1, 2, 3, 4]\n"
          ]
        }
      ]
    },
    {
      "cell_type": "code",
      "source": [
        "r  =int(input(\"enter the number of rows\"))\n",
        "print(r)"
      ],
      "metadata": {
        "id": "dY0kjbqn9730",
        "outputId": "1b58905f-65cd-498c-934e-6c712af64fcc",
        "colab": {
          "base_uri": "https://localhost:8080/"
        }
      },
      "execution_count": 4,
      "outputs": [
        {
          "output_type": "stream",
          "name": "stdout",
          "text": [
            "enter the number of rows2\n",
            "2\n"
          ]
        }
      ]
    },
    {
      "cell_type": "code",
      "source": [
        "list3= [int (x) for x in input().split()]\n",
        "print(list3)"
      ],
      "metadata": {
        "id": "Yd3Xh7kV--Fu",
        "outputId": "e5a5f09f-abae-4255-aeae-17e1c0ca9cb5",
        "colab": {
          "base_uri": "https://localhost:8080/"
        }
      },
      "execution_count": 6,
      "outputs": [
        {
          "output_type": "stream",
          "name": "stdout",
          "text": [
            "1 2 3 4 5 6 7 \n",
            "[1, 2, 3, 4, 5, 6, 7]\n"
          ]
        }
      ]
    },
    {
      "cell_type": "code",
      "source": [
        "list4 =[int(x)for x in input().split()]\n",
        "print(list4)"
      ],
      "metadata": {
        "id": "t5zAc2Sn_WPX",
        "outputId": "071b4a97-e3b0-4281-8f93-7ec58dec62b9",
        "colab": {
          "base_uri": "https://localhost:8080/"
        }
      },
      "execution_count": 9,
      "outputs": [
        {
          "output_type": "stream",
          "name": "stdout",
          "text": [
            "1 2 3 4 5 6\n",
            "[1, 2, 3, 4, 5, 6]\n"
          ]
        }
      ]
    },
    {
      "cell_type": "code",
      "source": [
        "m = int(input(\"enter the number of rows\"))\n",
        "n = int(input(\"enter the number of rows\"))\n",
        "list5= [int(x)for x in input().split()]\n",
        "\n",
        "a =[]\n",
        "for i in range(m):\n",
        "  a.append([])\n",
        "  for j in range(n):\n",
        "    a[i].append(list5[n*i+j])\n",
        "\n",
        "print(a)    "
      ],
      "metadata": {
        "id": "10eID6HtAnlL",
        "outputId": "95087376-b571-4f43-d8a2-5d69b48103e9",
        "colab": {
          "base_uri": "https://localhost:8080/"
        }
      },
      "execution_count": 12,
      "outputs": [
        {
          "output_type": "stream",
          "name": "stdout",
          "text": [
            "enter the number of rows2 \n",
            "enter the number of rows2\n",
            "1 2 3 4\n",
            "[[1, 2], [3, 4]]\n"
          ]
        }
      ]
    },
    {
      "cell_type": "code",
      "source": [
        "list6= [1,2,3,4]\n",
        "print(list6[2])"
      ],
      "metadata": {
        "id": "lC0mEhI_cjzq",
        "outputId": "d4784a99-a860-40e8-9b95-ee86c49c89a1",
        "colab": {
          "base_uri": "https://localhost:8080/"
        }
      },
      "execution_count": 14,
      "outputs": [
        {
          "output_type": "stream",
          "name": "stdout",
          "text": [
            "3\n"
          ]
        }
      ]
    }
  ]
}