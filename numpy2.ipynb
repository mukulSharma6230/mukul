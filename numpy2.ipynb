{
  "nbformat": 4,
  "nbformat_minor": 0,
  "metadata": {
    "colab": {
      "provenance": [],
      "toc_visible": true,
      "include_colab_link": true
    },
    "kernelspec": {
      "name": "python3",
      "display_name": "Python 3"
    }
  },
  "cells": [
    {
      "cell_type": "markdown",
      "metadata": {
        "id": "view-in-github",
        "colab_type": "text"
      },
      "source": [
        "<a href=\"https://colab.research.google.com/github/mukulSharma6230/mukul/blob/main/numpy2.ipynb\" target=\"_parent\"><img src=\"https://colab.research.google.com/assets/colab-badge.svg\" alt=\"Open In Colab\"/></a>"
      ]
    },
    {
      "cell_type": "markdown",
      "source": [],
      "metadata": {
        "id": "uAHsFrpsil4F"
      }
    },
    {
      "cell_type": "code",
      "source": [
        "import numpy as np"
      ],
      "metadata": {
        "id": "gRLE0Qf1imL6"
      },
      "execution_count": 1,
      "outputs": []
    },
    {
      "cell_type": "markdown",
      "source": [],
      "metadata": {
        "id": "yBmb30_6iu6i"
      }
    },
    {
      "cell_type": "code",
      "source": [
        "np.zeros((3,4))"
      ],
      "metadata": {
        "id": "aEbkBXydivUS",
        "outputId": "fec8f3a0-31d6-4c4b-9309-f7933633c09d",
        "colab": {
          "base_uri": "https://localhost:8080/"
        }
      },
      "execution_count": 4,
      "outputs": [
        {
          "output_type": "execute_result",
          "data": {
            "text/plain": [
              "array([[0., 0., 0., 0.],\n",
              "       [0., 0., 0., 0.],\n",
              "       [0., 0., 0., 0.]])"
            ]
          },
          "metadata": {},
          "execution_count": 4
        }
      ]
    },
    {
      "cell_type": "markdown",
      "source": [
        "now we have to change the variable so we can do \n",
        "by changing its index or if give an integer value it will automatically change to float type\n",
        "Its will run it with intial stage\n",
        "if we try to enter the string value of an alphabet it  will the error because it will not be able to change  and if be give the string of integer value in it and then it will be easy to change\n"
      ],
      "metadata": {
        "id": "rIEGqPl0jP96"
      }
    },
    {
      "cell_type": "code",
      "source": [
        "x= np.ones(5)\n",
        "x[2]=2\n",
        "print(x)"
      ],
      "metadata": {
        "id": "N7vK3QkNjlKH",
        "outputId": "47f9bd7f-d8ce-4551-fb8c-5f39ecf29667",
        "colab": {
          "base_uri": "https://localhost:8080/"
        }
      },
      "execution_count": 5,
      "outputs": [
        {
          "output_type": "stream",
          "name": "stdout",
          "text": [
            "[1. 1. 2. 1. 1.]\n"
          ]
        }
      ]
    },
    {
      "cell_type": "markdown",
      "source": [
        "Create the 3d array"
      ],
      "metadata": {
        "id": "V4huvpCukP30"
      }
    },
    {
      "cell_type": "code",
      "source": [
        "array_3d =np.zeros((3,4,5))\n",
        "\n",
        "array_3d[0][1][3]=5\n",
        "print(array_3d)\n",
        "print(array_3d[0][1][3])"
      ],
      "metadata": {
        "id": "By0CXD7gkUdm",
        "outputId": "2689326d-7791-4ad0-8e14-31de25a25667",
        "colab": {
          "base_uri": "https://localhost:8080/"
        }
      },
      "execution_count": 9,
      "outputs": [
        {
          "output_type": "stream",
          "name": "stdout",
          "text": [
            "[[[0. 0. 0. 0. 0.]\n",
            "  [0. 0. 0. 5. 0.]\n",
            "  [0. 0. 0. 0. 0.]\n",
            "  [0. 0. 0. 0. 0.]]\n",
            "\n",
            " [[0. 0. 0. 0. 0.]\n",
            "  [0. 0. 0. 0. 0.]\n",
            "  [0. 0. 0. 0. 0.]\n",
            "  [0. 0. 0. 0. 0.]]\n",
            "\n",
            " [[0. 0. 0. 0. 0.]\n",
            "  [0. 0. 0. 0. 0.]\n",
            "  [0. 0. 0. 0. 0.]\n",
            "  [0. 0. 0. 0. 0.]]]\n",
            "5.0\n"
          ]
        }
      ]
    },
    {
      "cell_type": "markdown",
      "source": [
        "To get the shape we do"
      ],
      "metadata": {
        "id": "UQZl4wdDle6D"
      }
    },
    {
      "cell_type": "code",
      "source": [
        "array_3d.shape"
      ],
      "metadata": {
        "id": "qdA8Ir1QlhQ8",
        "outputId": "c3cc7898-ee84-4a99-987b-13b91c81ce76",
        "colab": {
          "base_uri": "https://localhost:8080/"
        }
      },
      "execution_count": 10,
      "outputs": [
        {
          "output_type": "execute_result",
          "data": {
            "text/plain": [
              "(3, 4, 5)"
            ]
          },
          "metadata": {},
          "execution_count": 10
        }
      ]
    }
  ]
}